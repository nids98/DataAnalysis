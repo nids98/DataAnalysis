{
 "cells": [
  {
   "cell_type": "code",
   "execution_count": 2,
   "metadata": {},
   "outputs": [],
   "source": [
    "import numpy as np"
   ]
  },
  {
   "cell_type": "code",
   "execution_count": 3,
   "metadata": {},
   "outputs": [],
   "source": [
    "arr = np.arange(10)"
   ]
  },
  {
   "cell_type": "markdown",
   "metadata": {},
   "source": [
    "# Some Universal functions(element wise operation)\n",
    "\n",
    "## Unary Functions\n",
    "\n",
    "    Function                                            Description\n",
    "    \n",
    "    1. abs, fabs                                Compute the absolute value element-wise for integer, floating-point, or complex values\n",
    "     \n",
    "    2. sqrt                                     Compute the square root of each element (equivalent to arr ** 0.5)\n",
    "     \n",
    "    3. square                                   Compute the square of each element (equivalent to arr ** 2)\n",
    "     \n",
    "    4. exp                                      Compute the exponent ex of each element\n",
    "     \n",
    "    5. log, log10,log2, log1p                   Natural logarithm (base e), log base 10, log base 2, and log(1+x),                                                  respectively sign Compute the sign of each element: 1 (positive),                                                  0(zero), or –1 (negative) ceil Compute the ceiling of each element                                                  (i.e., the smallest integer greater than or equal to thatnumber)\n",
    "     \n",
    "    6. floor                                    Compute the floor of each element (i.e., the largest integer less                                                  than or equal to each element)\n",
    "     \n",
    "    7. rint                                     Round elements to the nearest integer, preserving the dtype\n",
    "     \n",
    "    8. modf                                     Return fractional and integral parts of array as a separate array\n",
    "     \n",
    "    9. isnan                                    Return boolean array indicating whether each value is NaN (Not a                                                    Number)\n",
    "    10. isfinite, isinf                         Return boolean array indicating whether each element is finite                                                      (non-inf, non-NaN) or infinite, respectively\n",
    "     \n",
    "    11. cos, cosh, sin,sinh, tan, tanh          Regular and hyperbolic trigonometric functions\n",
    "     \n",
    "    12. arccos, arccosh, arcsin, arcsinh, arctan, arctanh        Inverse trigonometric functions\n",
    "     \n",
    "    13. logical_not                               Compute truth value of not x element-wise (equivalent to ~arr).\n",
    "\n",
    "## Returns multiple array\n",
    "###  rem, whole_num = np.modf(arr)\n",
    "\n",
    "## Binary Functions\n",
    "\n",
    "\n",
    "    add                           Add corresponding elements in arrays\n",
    "    \n",
    "    subtract                      Subtract elements in second array from first array\n",
    "    \n",
    "    multiply                      Multiply array elements\n",
    "    \n",
    "    divide, floor_divide          Divide or floor divide (truncating the remainder)\n",
    "    \n",
    "    power                         Raise elements in first array to powers indicated in second array\n",
    "    \n",
    "    maximum, fmax                 Element-wise maximum; fmax ignores NaN\n",
    "    \n",
    "    minimum, fmin                 Element-wise minimum; fmin ignores NaN\n",
    "    \n",
    "    mod                           Element-wise modulus (remainder of division)\n",
    "    \n",
    "    copysign                      Copy sign of values in second argument to values in first argument\n",
    "    \n",
    "    greater, greater_equal,\n",
    "    less, less_equal,\n",
    "    equal, not_equal\n",
    "                                  Perform element-wise comparison, yielding boolean array (equivalent \n",
    "                                  to infix operators >, >=, <, <=, ==, !=)\n",
    "                                  \n",
    "    logical_and,\n",
    "    logical_or, logical_xor\n",
    "                                  Compute element-wise truth value of logical operation (equivalent to\n",
    "                                  infix operators & |, ^)\n"
   ]
  },
  {
   "cell_type": "code",
   "execution_count": 4,
   "metadata": {},
   "outputs": [
    {
     "data": {
      "text/plain": [
       "array([0.        , 1.        , 1.41421356, 1.73205081, 2.        ,\n",
       "       2.23606798, 2.44948974, 2.64575131, 2.82842712, 3.        ])"
      ]
     },
     "execution_count": 4,
     "metadata": {},
     "output_type": "execute_result"
    }
   ],
   "source": [
    "np.sqrt(arr)"
   ]
  },
  {
   "cell_type": "code",
   "execution_count": 5,
   "metadata": {},
   "outputs": [
    {
     "data": {
      "text/plain": [
       "array([0, 1, 2, 3, 4, 5, 6, 7, 8, 9])"
      ]
     },
     "execution_count": 5,
     "metadata": {},
     "output_type": "execute_result"
    }
   ],
   "source": [
    "arr"
   ]
  },
  {
   "cell_type": "code",
   "execution_count": 10,
   "metadata": {},
   "outputs": [
    {
     "data": {
      "text/plain": [
       "array([0, 1, 2, 3, 4, 5, 6, 7, 8, 9])"
      ]
     },
     "execution_count": 10,
     "metadata": {},
     "output_type": "execute_result"
    }
   ],
   "source": [
    "np.abs(arr)"
   ]
  },
  {
   "cell_type": "code",
   "execution_count": 6,
   "metadata": {},
   "outputs": [
    {
     "data": {
      "text/plain": [
       "array([  1.00000000e+00,   2.71828183e+00,   7.38905610e+00,\n",
       "         2.00855369e+01,   5.45981500e+01,   1.48413159e+02,\n",
       "         4.03428793e+02,   1.09663316e+03,   2.98095799e+03,\n",
       "         8.10308393e+03])"
      ]
     },
     "execution_count": 6,
     "metadata": {},
     "output_type": "execute_result"
    }
   ],
   "source": [
    "np.exp(arr)"
   ]
  },
  {
   "cell_type": "code",
   "execution_count": 11,
   "metadata": {},
   "outputs": [
    {
     "data": {
      "text/plain": [
       "array([ 0,  1,  4,  9, 16, 25, 36, 49, 64, 81])"
      ]
     },
     "execution_count": 11,
     "metadata": {},
     "output_type": "execute_result"
    }
   ],
   "source": [
    "np.square(arr)"
   ]
  },
  {
   "cell_type": "markdown",
   "metadata": {},
   "source": [
    "*********************"
   ]
  },
  {
   "cell_type": "code",
   "execution_count": 7,
   "metadata": {
    "collapsed": true
   },
   "outputs": [],
   "source": [
    "x1=np.array([1,2,3,4,5])"
   ]
  },
  {
   "cell_type": "code",
   "execution_count": 8,
   "metadata": {
    "collapsed": true
   },
   "outputs": [],
   "source": [
    "x2=np.array([2,1,1,5,4])"
   ]
  },
  {
   "cell_type": "code",
   "execution_count": 9,
   "metadata": {},
   "outputs": [
    {
     "data": {
      "text/plain": [
       "array([1, 2, 3, 4, 5])"
      ]
     },
     "execution_count": 9,
     "metadata": {},
     "output_type": "execute_result"
    }
   ],
   "source": [
    "x1"
   ]
  },
  {
   "cell_type": "code",
   "execution_count": 10,
   "metadata": {},
   "outputs": [
    {
     "data": {
      "text/plain": [
       "array([2, 1, 1, 5, 4])"
      ]
     },
     "execution_count": 10,
     "metadata": {},
     "output_type": "execute_result"
    }
   ],
   "source": [
    "x2"
   ]
  },
  {
   "cell_type": "code",
   "execution_count": 11,
   "metadata": {},
   "outputs": [
    {
     "data": {
      "text/plain": [
       "array([2, 2, 3, 5, 5])"
      ]
     },
     "execution_count": 11,
     "metadata": {},
     "output_type": "execute_result"
    }
   ],
   "source": [
    "np.maximum(x1,x2)"
   ]
  },
  {
   "cell_type": "code",
   "execution_count": 17,
   "metadata": {},
   "outputs": [
    {
     "data": {
      "text/plain": [
       "array([3, 3, 4, 9, 9])"
      ]
     },
     "execution_count": 17,
     "metadata": {},
     "output_type": "execute_result"
    }
   ],
   "source": [
    "np.add(x1,x2)"
   ]
  },
  {
   "cell_type": "markdown",
   "metadata": {},
   "source": [
    "*********************"
   ]
  },
  {
   "cell_type": "code",
   "execution_count": 12,
   "metadata": {
    "collapsed": true
   },
   "outputs": [],
   "source": [
    "float_arr = np.array([1.1111, 2.2222, 3.3333, 4.4444, 5.5555])"
   ]
  },
  {
   "cell_type": "code",
   "execution_count": 14,
   "metadata": {},
   "outputs": [],
   "source": [
    "remainder, whole_number = np.modf(float_arr)"
   ]
  },
  {
   "cell_type": "code",
   "execution_count": 15,
   "metadata": {},
   "outputs": [
    {
     "data": {
      "text/plain": [
       "array([ 0.1111,  0.2222,  0.3333,  0.4444,  0.5555])"
      ]
     },
     "execution_count": 15,
     "metadata": {},
     "output_type": "execute_result"
    }
   ],
   "source": [
    "remainder"
   ]
  },
  {
   "cell_type": "code",
   "execution_count": 16,
   "metadata": {},
   "outputs": [
    {
     "data": {
      "text/plain": [
       "array([ 1.,  2.,  3.,  4.,  5.])"
      ]
     },
     "execution_count": 16,
     "metadata": {},
     "output_type": "execute_result"
    }
   ],
   "source": [
    "whole_number"
   ]
  },
  {
   "cell_type": "markdown",
   "metadata": {},
   "source": [
    "*********************"
   ]
  },
  {
   "cell_type": "code",
   "execution_count": null,
   "metadata": {
    "collapsed": true
   },
   "outputs": [],
   "source": []
  }
 ],
 "metadata": {
  "kernelspec": {
   "display_name": "Python 2",
   "language": "python",
   "name": "python2"
  },
  "language_info": {
   "codemirror_mode": {
    "name": "ipython",
    "version": 2
   },
   "file_extension": ".py",
   "mimetype": "text/x-python",
   "name": "python",
   "nbconvert_exporter": "python",
   "pygments_lexer": "ipython2",
   "version": "2.7.12"
  }
 },
 "nbformat": 4,
 "nbformat_minor": 2
}
